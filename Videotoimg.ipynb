{
 "cells": [
  {
   "cell_type": "markdown",
   "metadata": {},
   "source": [
    "# Creating dataset\n",
    "## We have 2 choices\n",
    "### <b> Choice 1 </b>: If you have images that's well and good. You need to have lots of images to perform accurate prediction.\n",
    "### <b> Choice 2 </b>: In order to create dataset, we are capturing videos and converting them to images. Here I'm capturing a video of each person and storing it in a different folder.Capture 1000 to 1200 images for each person.The code is given below..\n"
   ]
  },
  {
   "cell_type": "code",
   "execution_count": 1,
   "metadata": {},
   "outputs": [],
   "source": [
    "#Importing all libraries\n",
    "import numpy as np\n",
    "import imutils\n",
    "import cv2\n",
    "import os\n",
    "from imutils.video import VideoStream\n",
    "import time"
   ]
  },
  {
   "cell_type": "code",
   "execution_count": 6,
   "metadata": {},
   "outputs": [
    {
     "name": "stdout",
     "output_type": "stream",
     "text": [
      "[INFO] starting video stream...\n"
     ]
    }
   ],
   "source": [
    "print(\"[INFO] starting video stream...\")\n",
    "#Creating a videostream object\n",
    "vs = VideoStream(src=0).start()\n",
    "time.sleep(2.0)\n",
    "#A variabel for numbering images\n",
    "i=0\n",
    "# Loop over frames from the video file stream\n",
    "while True:\n",
    "    # Grab the frame from the threaded video stream\n",
    "    frame = vs.read()\n",
    "    cv2.rectangle(frame, (200, 100), (450, 400),(0, 0, 255), 2)\n",
    "    cv2.putText(frame, \"Face must be inside this.\", (100, 150),cv2.FONT_HERSHEY_SIMPLEX, 0.45, (255, 0, 0), 2)\n",
    "    \n",
    "    img = frame[100:400,200:450]#Grab the image \n",
    "\n",
    "    #Press 's' to save images (or you can comment it to save automatically....)\n",
    "    if key == ord(\"s\"):\n",
    "        if i%10 == 0:#save every 10th frame image to avoid duplicates.(you can change the value..)\n",
    "            cv2.imwrite(\"foldername/\"+str(i)+\".jpg\",img)#Specify the different student names\n",
    "    i=i+1\n",
    "    \n",
    "    key = cv2.waitKey(1) & 0xFF\n",
    "    # If the `q` key was pressed, break from the loop\n",
    "    if key == ord(\"q\"):\n",
    "        break\n",
    "    # Show the output frame    \n",
    "    cv2.imshow(\"Frame\", frame)\n",
    "\n",
    "# Do a bit of cleanup\n",
    "cv2.destroyAllWindows()\n",
    "vs.stop()"
   ]
  }
 ],
 "metadata": {
  "kernelspec": {
   "display_name": "Python 3",
   "language": "python",
   "name": "python3"
  },
  "language_info": {
   "codemirror_mode": {
    "name": "ipython",
    "version": 3
   },
   "file_extension": ".py",
   "mimetype": "text/x-python",
   "name": "python",
   "nbconvert_exporter": "python",
   "pygments_lexer": "ipython3",
   "version": "3.5.6"
  }
 },
 "nbformat": 4,
 "nbformat_minor": 2
}
